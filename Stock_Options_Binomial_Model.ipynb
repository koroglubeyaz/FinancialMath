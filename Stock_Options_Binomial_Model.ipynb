{
 "cells": [
  {
   "cell_type": "code",
   "execution_count": 3,
   "metadata": {
    "scrolled": false
   },
   "outputs": [],
   "source": [
    "# IMPORT LIBRARIES\n",
    "\n",
    "import math\n",
    "import pandas as pd  # for convinience\n",
    "import matplotlib.pyplot as plt  # for graphics\n",
    "import seaborn as sns  # for nicer graphics\n",
    "\n",
    "pd.set_option(\"display.max_rows\", None, \"display.max_columns\", None)"
   ]
  },
  {
   "cell_type": "code",
   "execution_count": 4,
   "metadata": {},
   "outputs": [],
   "source": [
    "# MATH TO CODE\n",
    "\n",
    "s = 160\n",
    "n = 100\n",
    "p = 0.3\n",
    "u = 0.05\n",
    "d = -0.05\n",
    "y = -1\n",
    "arry=[]\n",
    "arrM=[]\n",
    "arrPR=[]\n",
    "arrM1=[]\n",
    "\n",
    "while y < n:\n",
    "    y +=1\n",
    "    arry.append(y)\n",
    "    x = n-y\n",
    "    PR = (math.factorial(n) / (math.factorial(y) * math.factorial(n-y))) * ((p**(n-y)) * ((1-p)**y)) * 100\n",
    "    arrPR.append(PR)\n",
    "    M =  s * (1+u)**(n-y) * (1+d)**y\n",
    "    arrM.append(M)\n",
    "    if M > 160:\n",
    "        arrM1.append('Profit')\n",
    "    else:\n",
    "        arrM1.append('Loss')"
   ]
  },
  {
   "cell_type": "code",
   "execution_count": 5,
   "metadata": {},
   "outputs": [
    {
     "name": "stdout",
     "output_type": "stream",
     "text": [
      "     101 Possible Scenario  S(100)money $  S(100)probability % Profit/Loss\n",
      "0                        0   21040.201255         5.153775e-51      Profit\n",
      "1                        1   19036.372564         1.202548e-48      Profit\n",
      "2                        2   17223.384701         1.388942e-46      Profit\n",
      "3                        3   15583.062349         1.058683e-44      Profit\n",
      "4                        4   14098.961173         5.990380e-43      Profit\n",
      "5                        5   12756.202966         2.683690e-41      Profit\n",
      "6                        6   11541.326493         9.914745e-40      Profit\n",
      "7                        7   10442.152541         3.106620e-38      Profit\n",
      "8                        8    9447.661823         8.426707e-37      Profit\n",
      "9                        9    8547.884506         2.009926e-35      Profit\n",
      "10                      10    7733.800268         4.267742e-34      Profit\n",
      "11                      11    6997.247861         8.147507e-33      Profit\n",
      "12                      12    6330.843303         1.409971e-31      Profit\n",
      "13                      13    5727.905846         2.227032e-30      Profit\n",
      "14                      14    5182.391003         3.229196e-29      Profit\n",
      "15                      15    4688.829955         4.319947e-28      Profit\n",
      "16                      16    4242.274721         5.354934e-27      Profit\n",
      "17                      17    3838.248557         6.173924e-26      Profit\n",
      "18                      18    3472.701076         6.642685e-25      Profit\n",
      "19                      19    3141.967640         6.689300e-24      Profit\n",
      "20                      20    2842.732627         6.321389e-23      Profit\n",
      "21                      21    2571.996186         5.619012e-22      Profit\n",
      "22                      22    2327.044168         4.708051e-21      Profit\n",
      "23                      23    2105.420914         3.725501e-20      Profit\n",
      "24                      24    1904.904637         2.788952e-19      Profit\n",
      "25                      25    1723.485147         1.978296e-18      Profit\n",
      "26                      26    1559.343705         1.331546e-17      Profit\n",
      "27                      27    1410.834781         8.515317e-17      Profit\n",
      "28                      28    1276.469563         5.180151e-16      Profit\n",
      "29                      29    1154.901034         3.000915e-15      Profit\n",
      "30                      30    1044.910459         1.657172e-14      Profit\n",
      "31                      31     945.395177         8.731336e-14      Profit\n",
      "32                      32     855.357541         4.392953e-13      Profit\n",
      "33                      33     773.894918         2.112168e-12      Profit\n",
      "34                      34     700.190640         9.711829e-12      Profit\n",
      "35                      35     633.505817         4.273205e-11      Profit\n",
      "36                      36     573.171930         1.800285e-10      Profit\n",
      "37                      37     518.584127         7.266017e-10      Profit\n",
      "38                      38     469.195163         2.810801e-09      Profit\n",
      "39                      39     424.509909         1.042639e-08      Profit\n",
      "40                      40     384.080394         3.710057e-08      Profit\n",
      "41                      41     347.501309         1.266849e-07      Profit\n",
      "42                      42     314.405946         4.152449e-07      Profit\n",
      "43                      43     284.462523         1.306895e-06      Profit\n",
      "44                      44     257.370854         3.950387e-06      Profit\n",
      "45                      45     232.859344         1.147075e-05      Profit\n",
      "46                      46     210.682264         3.200174e-05      Profit\n",
      "47                      47     190.617286         8.579189e-05      Profit\n",
      "48                      48     172.463259         2.210333e-04      Profit\n",
      "49                      49     156.038187         5.473205e-04        Loss\n",
      "50                      50     141.177407         1.302623e-03        Loss\n",
      "51                      51     127.731940         2.979856e-03        Loss\n",
      "52                      52     115.566993         6.551863e-03        Loss\n",
      "53                      53     104.560613         1.384545e-02        Loss\n",
      "54                      54      94.602459         2.811822e-02        Loss\n",
      "55                      55      85.592701         5.487313e-02        Loss\n",
      "56                      56      77.441015         1.028871e-01        Loss\n",
      "57                      57      70.065680         1.853172e-01        Loss\n",
      "58                      58      63.392759         3.205774e-01        Loss\n",
      "59                      59      57.355353         5.324845e-01        Loss\n",
      "60                      60      51.892938         8.490169e-01        Loss\n",
      "61                      61      46.950754         1.299042e+00        Loss\n",
      "62                      62      42.479253         1.906659e+00        Loss\n",
      "63                      63      38.433610         2.683446e+00        Loss\n",
      "64                      64      34.773266         3.619856e+00        Loss\n",
      "65                      65      31.461527         4.677968e+00        Loss\n",
      "66                      66      28.465191         5.788395e+00        Loss\n",
      "67                      67      25.754220         6.853920e+00        Loss\n",
      "68                      68      23.301437         7.761057e+00        Loss\n",
      "69                      69      21.082253         8.398439e+00        Loss\n",
      "70                      70      19.074419         8.678386e+00        Loss\n",
      "71                      71      17.257808         8.556156e+00        Loss\n",
      "72                      72      15.614207         8.041202e+00        Loss\n",
      "73                      73      14.127140         7.196692e+00        Loss\n",
      "74                      74      12.781698         6.126914e+00        Loss\n",
      "75                      75      11.564393         4.955992e+00        Loss\n",
      "76                      76      10.463023         3.803941e+00        Loss\n",
      "77                      77       9.466544         2.766503e+00        Loss\n",
      "78                      78       8.564969         1.903449e+00        Loss\n",
      "79                      79       7.749257         1.236840e+00        Loss\n",
      "80                      80       7.011233         7.575645e-01        Loss\n",
      "81                      81       6.343496         4.364569e-01        Loss\n",
      "82                      82       5.739354         2.359706e-01        Loss\n",
      "83                      83       5.192749         1.194068e-01        Loss\n",
      "84                      84       4.698201         5.638655e-02        Loss\n",
      "85                      85       4.250753         2.476586e-02        Loss\n",
      "86                      86       3.845920         1.007913e-02        Loss\n",
      "87                      87       3.479642         3.784500e-03        Loss\n",
      "88                      88       3.148247         1.304506e-03        Loss\n",
      "89                      89       2.848414         4.104063e-04        Loss\n",
      "90                      90       2.577137         1.170418e-04        Loss\n",
      "91                      91       2.331695         3.001072e-05        Loss\n",
      "92                      92       2.109629         6.850272e-06        Loss\n",
      "93                      93       1.908712         1.374965e-06        Loss\n",
      "94                      94       1.726930         2.389124e-07        Loss\n",
      "95                      95       1.562460         3.520814e-08        Loss\n",
      "96                      96       1.413655         4.278767e-09        Loss\n",
      "97                      97       1.279021         4.117027e-10        Loss\n",
      "98                      98       1.157209         2.940733e-11        Loss\n",
      "99                      99       1.046999         1.386204e-12        Loss\n",
      "100                    100       0.947285         3.234477e-14        Loss\n"
     ]
    }
   ],
   "source": [
    "# PRINT THE WHOLE RESULTS\n",
    "\n",
    "df = pd.DataFrame(list(zip(arry, arrM, arrPR, arrM1)), columns=['101 Possible Scenario', 'S(100)money $', 'S(100)probability %', 'Profit/Loss'])\n",
    "print (df)"
   ]
  },
  {
   "cell_type": "code",
   "execution_count": 45,
   "metadata": {},
   "outputs": [
    {
     "data": {
      "image/png": "[encoded data removed]",
      "text/plain": [
       "<Figure size 1152x576 with 2 Axes>"
      ]
     },
     "metadata": {
      "needs_background": "light"
     },
     "output_type": "display_data"
    }
   ],
   "source": [
    "# PLOT THE GRAPH\n",
    "\n",
    "fig=plt.figure(figsize=(16,8))\n",
    "ax1 = fig.add_subplot(111)\n",
    "ax2 = ax1.twinx()\n",
    "\n",
    "b= sns.barplot(x='101 Possible Scenario', y='S(100)probability %', data=df, color='gray', ax=ax2)\n",
    "l= sns.lineplot(x=df.index, y='S(100)money $', data=df, marker='s', hue=arrM1, palette=('green','red'), ax=ax1)\n",
    "\n",
    "b.axes.set_title(\"101 Possible Scenario\",fontsize=20)\n",
    "b.set_ylabel(\"% Probability\",fontsize=15)\n",
    "l.set_ylabel(\"$ Money\",fontsize=15)\n",
    "\n",
    "plt.xticks(rotation=60)\n",
    "plt.show()"
   ]
  },
  {
   "cell_type": "code",
   "execution_count": 7,
   "metadata": {},
   "outputs": [
    {
     "name": "stdout",
     "output_type": "stream",
     "text": [
      "Probability of Profit is %: 0.0003561481518642737\n",
      "Probability of Loss is %: 99.99964385184758\n"
     ]
    }
   ],
   "source": [
    "# PROFIT/LOSS PROBABILITY\n",
    "\n",
    "ProfitProbability = df.loc[df['Profit/Loss'] == 'Profit', 'S(100)probability %'].sum()\n",
    "print('Probability of Profit is: %', ProfitProbability)\n",
    "\n",
    "LossProbability = df.loc[df['Profit/Loss'] == 'Loss', 'S(100)probability %'].sum()\n",
    "print('Probability of Loss is: %', LossProbability)"
   ]
  },
  {
   "cell_type": "code",
   "execution_count": 31,
   "metadata": {},
   "outputs": [
    {
     "name": "stdout",
     "output_type": "stream",
     "text": [
      "Profit/Loss    49\n",
      "dtype: int64      is Number of Profit Scenarios\n",
      " \n",
      "Profit/Loss    52\n",
      "dtype: int64      is Number of Loss Scenarios\n"
     ]
    }
   ],
   "source": [
    "# NUMBER OF PROFIT/LOSS SCENARIO\n",
    "\n",
    "NumberofProfitScenario=(df[['Profit/Loss']] == 'Profit').sum(axis=0)\n",
    "NumberofLossScenario=(df[['Profit/Loss']] == 'Loss').sum(axis=0)\n",
    "print(NumberofProfitScenario, '     is Number of Profit Scenarios')\n",
    "print(' ')\n",
    "print(NumberofLossScenario, '     is Number of Loss Scenarios')"
   ]
  },
  {
   "cell_type": "code",
   "execution_count": 47,
   "metadata": {},
   "outputs": [
    {
     "name": "stdout",
     "output_type": "stream",
     "text": [
      "The scenario with the maximum probability is:  70\n",
      "The maximum probability is: % 8.678386475342762\n",
      "The value is: $ 19.074419289877753   ($ 140.92558071012223  Loss)\n"
     ]
    }
   ],
   "source": [
    "#THE SCENARIO WHICH HAS MAX POSSIBILITY\n",
    "\n",
    "column = df['S(100)probability %']\n",
    "max_index = column.idxmax()\n",
    "\n",
    "columnPR = df['S(100)probability %']\n",
    "max_valuePR = columnPR.max()\n",
    "\n",
    "valueM = df['S(100)money $'][70]\n",
    "\n",
    "LossValue = 160 - valueM\n",
    "\n",
    "print('The scenario with the maximum probability is: ', max_index)\n",
    "print('The maximum probability is: %',max_valuePR)\n",
    "print('The value is: $',valueM, '  ($', LossValue, ' Loss)' )"
   ]
  }
 ],
 "metadata": {
  "kernelspec": {
   "display_name": "Python 3",
   "language": "python",
   "name": "python3"
  },
  "language_info": {
   "codemirror_mode": {
    "name": "ipython",
    "version": 3
   },
   "file_extension": ".py",
   "mimetype": "text/x-python",
   "name": "python",
   "nbconvert_exporter": "python",
   "pygments_lexer": "ipython3",
   "version": "3.8.3"
  }
 },
 "nbformat": 4,
 "nbformat_minor": 4
}
